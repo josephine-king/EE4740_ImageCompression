{
 "cells": [
  {
   "cell_type": "code",
   "execution_count": 10,
   "metadata": {},
   "outputs": [],
   "source": [
    "# Import libraries\n",
    "import numpy as np\n",
    "import os\n"
   ]
  },
  {
   "cell_type": "code",
   "execution_count": null,
   "metadata": {},
   "outputs": [],
   "source": [
    "# Define data pre-processing functions \n",
    "\n",
    "# Import the mnist dataset \n",
    "def import_mnist_data(num_img):\n",
    "    # Unzip the mnist data\n",
    "    if not os.path.exists(\"mnist_dataset/\"):\n",
    "        !unzip mnist_dataset.zip\n",
    "    # Load the mnist data\n",
    "    # Ignore the first column of the data (the label)\n",
    "    train_data = np.loadtxt(\"mnist_dataset/mnist_train.csv\", delimiter=\",\", max_rows=num_img, usecols=range(1,785))\n",
    "    train_data = train_data.reshape(num_img, 784)\n",
    "    return train_data\n",
    "\n",
    "# Sparsify the data by setting all values below a threshold to 0\n",
    "def sparsify_data(data, threshold):\n",
    "    for i in range(data.shape[0]):\n",
    "        for j in range(data.shape[1]):\n",
    "            data[i,j] = 1 if data[i,j] > threshold else 0\n",
    "\n",
    "    return data\n",
    "\n",
    "# Generates a random measurement matrix with normalized columns\n",
    "def make_meas_matrix(rows, cols):\n",
    "    # Generate a matrix of numbers from the standard normal distribution\n",
    "    meas_matrix = np.random.randn(rows, cols)\n",
    "    # Normalize the columns of the matrix\n",
    "    for i in range(cols):\n",
    "        meas_matrix[:,i] = meas_matrix[:,i] / np.linalg.norm(meas_matrix[:,i])\n",
    "\n",
    "    return meas_matrix\n",
    "\n",
    "# Generate measurements from the data using the measurement matrix\n",
    "def get_measurements(data, meas_matrix):\n",
    "    return meas_matrix @ data.T"
   ]
  },
  {
   "cell_type": "code",
   "execution_count": 38,
   "metadata": {},
   "outputs": [
    {
     "name": "stdout",
     "output_type": "stream",
     "text": [
      "(1, 784)\n",
      "(1, 784)\n",
      "(25, 784)\n",
      "(25, 1)\n"
     ]
    }
   ],
   "source": [
    "# Testing out data pre-processing functions\n",
    "\n",
    "train_data = import_mnist_data(1)\n",
    "print(train_data.shape)\n",
    "\n",
    "train_data = sparsify_data(train_data, 100)\n",
    "print(train_data.shape)\n",
    "\n",
    "meas_matrix = make_meas_matrix(25,784)\n",
    "print(meas_matrix.shape)\n",
    "\n",
    "measurement = get_measurements(train_data, meas_matrix)\n",
    "print(measurement.shape)\n"
   ]
  }
 ],
 "metadata": {
  "kernelspec": {
   "display_name": "Python (BML_GPT_mac)",
   "language": "python",
   "name": "bml_gpt_mac"
  },
  "language_info": {
   "codemirror_mode": {
    "name": "ipython",
    "version": 3
   },
   "file_extension": ".py",
   "mimetype": "text/x-python",
   "name": "python",
   "nbconvert_exporter": "python",
   "pygments_lexer": "ipython3",
   "version": "3.12.9"
  }
 },
 "nbformat": 4,
 "nbformat_minor": 2
}
