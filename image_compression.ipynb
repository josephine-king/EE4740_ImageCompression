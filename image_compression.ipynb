{
 "cells": [
  {
   "cell_type": "code",
   "execution_count": 1,
   "metadata": {},
   "outputs": [],
   "source": [
    "# Import libraries\n",
    "import numpy as np\n",
    "import os\n",
    "import matplotlib.pyplot as plt\n"
   ]
  },
  {
   "cell_type": "code",
   "execution_count": null,
   "metadata": {},
   "outputs": [],
   "source": [
    "# Define data pre-processing functions \n",
    "\n",
    "# Import the mnist dataset \n",
    "def import_mnist_data(num_img):\n",
    "    # Unzip the mnist data\n",
    "    if not os.path.exists(\"mnist_dataset/\"):\n",
    "        !unzip mnist_dataset.zip\n",
    "    # Load the mnist data\n",
    "    # Ignore the first column of the data (the label)\n",
    "    data = np.loadtxt(\"mnist_dataset/mnist_test.csv\", delimiter=\",\", max_rows=num_img, usecols=range(1,785))\n",
    "    data = data.reshape(num_img, 784)\n",
    "    return data\n",
    "\n",
    "# Sparsify the data by setting all values below a threshold to 0\n",
    "def sparsify_data(data, threshold):\n",
    "    sparse_data = np.copy(data)\n",
    "    for i in range(sparse_data.shape[0]):\n",
    "        for j in range(sparse_data.shape[1]):\n",
    "            sparse_data[i,j] = 1 if sparse_data[i,j] > threshold else 0\n",
    "\n",
    "    return sparse_data\n",
    "\n",
    "# Generates a random measurement matrix with normalized columns\n",
    "def make_meas_matrix(rows, cols):\n",
    "    # Generate a matrix of numbers from the standard normal distribution\n",
    "    meas_matrix = np.random.randn(rows, cols)\n",
    "    # Normalize the columns of the matrix\n",
    "    for i in range(cols):\n",
    "        meas_matrix[:,i] = meas_matrix[:,i] / np.linalg.norm(meas_matrix[:,i])\n",
    "\n",
    "    return meas_matrix\n",
    "\n",
    "# Generate measurements from the data using the measurement matrix\n",
    "def get_measurements(data, meas_matrix):\n",
    "    return meas_matrix @ data.T\n",
    "\n",
    "# Plot the original image and the sparsified image\n",
    "def plot_images(original_data, sparsified_data):\n",
    "    fig, axs = plt.subplots(1, 2)\n",
    "    axs[0].imshow(original_data.reshape(28,28), cmap='gray_r', vmin=0, vmax=255)\n",
    "    axs[0].set_title(\"Original Image\")\n",
    "    axs[1].imshow(sparsified_data.reshape(28,28), cmap='gray_r', vmin=0, vmax=1)\n",
    "    axs[1].set_title(\"Sparsified Image\")\n",
    "    plt.show()"
   ]
  },
  {
   "cell_type": "code",
   "execution_count": 12,
   "metadata": {},
   "outputs": [
    {
     "name": "stdout",
     "output_type": "stream",
     "text": [
      "(1, 784)\n",
      "(1, 784)\n",
      "(25, 784)\n",
      "(25, 1)\n"
     ]
    },
    {
     "data": {
      "image/png": "[encoded data removed]",
      "text/plain": [
       "<Figure size 640x480 with 2 Axes>"
      ]
     },
     "metadata": {},
     "output_type": "display_data"
    }
   ],
   "source": [
    "# Testing out data pre-processing functions\n",
    "\n",
    "data = import_mnist_data(1)\n",
    "print(data.shape)\n",
    "\n",
    "sparse_data = sparsify_data(data, 100)\n",
    "print(sparse_data.shape)\n",
    "\n",
    "meas_matrix = make_meas_matrix(25,784)\n",
    "print(meas_matrix.shape)\n",
    "\n",
    "measurement = get_measurements(sparse_data, meas_matrix)\n",
    "print(measurement.shape)\n",
    "\n",
    "plot_images(data, sparse_data)"
   ]
  }
 ],
 "metadata": {
  "kernelspec": {
   "display_name": "Python (img_comp_env)",
   "language": "python",
   "name": "img_comp_env"
  },
  "language_info": {
   "codemirror_mode": {
    "name": "ipython",
    "version": 3
   },
   "file_extension": ".py",
   "mimetype": "text/x-python",
   "name": "python",
   "nbconvert_exporter": "python",
   "pygments_lexer": "ipython3",
   "version": "3.12.9"
  }
 },
 "nbformat": 4,
 "nbformat_minor": 2
}
